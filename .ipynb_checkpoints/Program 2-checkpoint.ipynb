{
 "cells": [
  {
   "cell_type": "code",
   "execution_count": 1,
   "id": "475e98f6",
   "metadata": {},
   "outputs": [],
   "source": [
    "import numpy as np\n",
    "import pandas as pd\n",
    "from sklearn.datasets import load_iris\n",
    "from sklearn.model_selection import train_test_split\n",
    "from sklearn.metrics import accuracy_score"
   ]
  },
  {
   "cell_type": "code",
   "execution_count": 2,
   "id": "51481fdf",
   "metadata": {},
   "outputs": [],
   "source": [
    "def gini_impurity(y):\n",
    "    counts = np.unique(y, return_counts=True)\n",
    "    probabilities = counts / len(y)\n",
    "    return 1.0 - np.sum(probabilities**2)\n",
    "\n",
    "def best_split(X, y):\n",
    "    num_samples, num_features = X.shape\n",
    "    if num_samples <= 1:\n",
    "        return None, None\n",
    "\n",
    "    current_impurity = gini_impurity(y)\n",
    "\n",
    "    best_feature = None\n",
    "    best_threshold = None\n",
    "    best_impurity_reduction = 0\n",
    "\n",
    "    for feature_index in range(num_features):\n",
    "        thresholds = np.unique(X[:, feature_index])\n",
    "\n",
    "        for threshold in thresholds:\n",
    "            left_mask = X[:, feature_index] <= threshold\n",
    "            right_mask = ~left_mask\n",
    "\n",
    "            if np.sum(left_mask) == 0 or np.sum(right_mask) == 0:\n",
    "                continue\n",
    "\n",
    "            left_impurity = gini_impurity(y[left_mask])\n",
    "            right_impurity = gini_impurity(y[right_mask])\n",
    "            impurity_reduction = current_impurity - (\n",
    "                len(y[left_mask]) / len(y) * left_impurity +\n",
    "                len(y[right_mask]) / len(y) * right_impurity\n",
    "            )\n",
    "\n",
    "            if impurity_reduction > best_impurity_reduction:\n",
    "                best_feature = feature_index\n",
    "                best_threshold = threshold\n",
    "                best_impurity_reduction = impurity_reduction\n",
    "\n",
    "    return best_feature, best_threshold"
   ]
  },
  {
   "cell_type": "code",
   "execution_count": 3,
   "id": "33e71ec5",
   "metadata": {},
   "outputs": [],
   "source": [
    "def grow_tree(X, y, depth, max_depth):\n",
    "    num_samples, _ = X.shape\n",
    "    unique_classes = np.unique(y)\n",
    "\n",
    "    if len(unique_classes) == 1 or (max_depth is not None and depth == max_depth):\n",
    "        return {'class': unique_classes[0]}\n",
    "\n",
    "    best_feature, best_threshold = best_split(X, y)\n",
    "\n",
    "    if best_feature is None:\n",
    "        return {'class': np.bincount(y).argmax()}\n",
    "\n",
    "    left_mask = X[:, best_feature] <= best_threshold\n",
    "    right_mask = ~left_mask\n",
    "\n",
    "    left_subtree = grow_tree(X[left_mask], y[left_mask], depth + 1, max_depth)\n",
    "    right_subtree = grow_tree(X[right_mask], y[right_mask], depth + 1, max_depth)\n",
    "\n",
    "    return {'feature_index': best_feature,\n",
    "            'threshold': best_threshold,\n",
    "            'left': left_subtree,\n",
    "            'right': right_subtree}\n",
    "\n",
    "def predict_sample(x, node):\n",
    "    if 'class' in node:\n",
    "        return node['class']\n",
    "    if x[node['feature_index']] <= node['threshold']:\n",
    "        return predict_sample(x, node['left'])\n",
    "    else:\n",
    "        return predict_sample(x, node['right'])\n",
    "\n",
    "def predict(X, tree):\n",
    "    return np.array([predict_sample(x, tree) for x in X])"
   ]
  },
  {
   "cell_type": "code",
   "execution_count": null,
   "id": "e39fe72f",
   "metadata": {},
   "outputs": [],
   "source": []
  },
  {
   "cell_type": "code",
   "execution_count": null,
   "id": "1ecfe6c0",
   "metadata": {},
   "outputs": [],
   "source": []
  }
 ],
 "metadata": {
  "kernelspec": {
   "display_name": "Python 3 (ipykernel)",
   "language": "python",
   "name": "python3"
  },
  "language_info": {
   "codemirror_mode": {
    "name": "ipython",
    "version": 3
   },
   "file_extension": ".py",
   "mimetype": "text/x-python",
   "name": "python",
   "nbconvert_exporter": "python",
   "pygments_lexer": "ipython3",
   "version": "3.9.12"
  }
 },
 "nbformat": 4,
 "nbformat_minor": 5
}
